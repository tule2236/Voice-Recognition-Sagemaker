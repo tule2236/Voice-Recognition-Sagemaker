{
 "cells": [
  {
   "cell_type": "code",
   "execution_count": null,
   "metadata": {},
   "outputs": [],
   "source": [
    "%%time\n",
    "%%capture\n",
    "!pip install pydub > /dev/null"
   ]
  },
  {
   "cell_type": "code",
   "execution_count": 5,
   "metadata": {},
   "outputs": [
    {
     "name": "stdout",
     "output_type": "stream",
     "text": [
      "CPU times: user 0 ns, sys: 0 ns, total: 0 ns\n",
      "Wall time: 88 µs\n"
     ]
    }
   ],
   "source": [
    "%%time\n",
    "import random\n",
    "import base64\n",
    "import json\n",
    "import tarfile\n",
    "import wave\n",
    "from contextlib import closing\n",
    "from os import listdir, makedirs\n",
    "from os.path import isfile, join\n",
    "from pickle import dump\n",
    "from sagemaker.mxnet import MXNet\n",
    "from shutil import rmtree, copy2\n",
    "from urllib.request import urlretrieve\n",
    "from tempfile import gettempdir\n",
    "import os\n",
    "import boto3\n",
    "import cv2\n",
    "import matplotlib\n",
    "matplotlib.use(\"agg\")\n",
    "import matplotlib.pyplot as plt\n",
    "import mxnet as mx\n",
    "import numpy as np\n",
    "import pandas as pd\n",
    "import sagemaker\n",
    "from pydub import AudioSegment"
   ]
  },
  {
   "cell_type": "code",
   "execution_count": null,
   "metadata": {},
   "outputs": [],
   "source": [
    "import shutil\n",
    "shutil.rmtree('/tmp/ag-voice/pickles/')"
   ]
  },
  {
   "cell_type": "code",
   "execution_count": null,
   "metadata": {},
   "outputs": [],
   "source": [
    "def get_labels(bucket_name):\n",
    "    s3 = boto3.resource('s3')\n",
    "    bucket = s3.Bucket(bucket_name)\n",
    "    result = bucket.meta.client.list_objects(Bucket=bucket.name,\n",
    "                                             Delimiter='/', Prefix='mp3/')\n",
    "    labels = []\n",
    "    for o in result.get('CommonPrefixes'):\n",
    "        labels.append(o.get('Prefix').split(\"/\")[1])\n",
    "        label_indices = np.arange(0, len(labels))\n",
    "    return labels, label_indices\n",
    "labels, label_indices = get_labels('ag-voice')\n",
    "print(labels)"
   ]
  },
  {
   "cell_type": "code",
   "execution_count": null,
   "metadata": {},
   "outputs": [],
   "source": [
    "import os\n",
    "os.listdir(\"/tmp/ag-voice/pickles\")"
   ]
  },
  {
   "cell_type": "code",
   "execution_count": 2,
   "metadata": {},
   "outputs": [],
   "source": [
    "labels = [\"zero\", \"one\", \"two\", \"three\", \"four\",\"five\", \"six\", \"seven\", \"eight\", \"nine\"]"
   ]
  },
  {
   "cell_type": "code",
   "execution_count": null,
   "metadata": {},
   "outputs": [],
   "source": [
    "import boto3\n",
    "import os\n",
    "\n",
    "def download_dir(client, resource, dist, label, local, bucket='ag-voice'):\n",
    "    data = []\n",
    "    train, validation, test = [], [], []\n",
    "    prefix = dist + label\n",
    "    conn = boto3.client('s3')\n",
    "    for key in conn.list_objects(Bucket=bucket, Prefix= prefix)['Contents']:\n",
    "        data.append( key['Key'])\n",
    "#     random.shuffle(data)\n",
    "    train = data[:int(round(len(data) * 0.8))]\n",
    "    test = data[int(round(len(data) * 0.8)) : int(round(len(data) * 0.9))]\n",
    "    validation = data[int(round(len(data) * 0.9)):]\n",
    "    train_path = local + 'train'\n",
    "    test_path = local + 'test'\n",
    "    validation_path = local + 'validation'\n",
    "    for key in train:\n",
    "        file_name = key.split('mp3/')[1]\n",
    "        if not os.path.exists(os.path.dirname(train_path + os.sep + file_name)): \n",
    "            os.makedirs(os.path.dirname(train_path + os.sep + file_name))\n",
    "        resource.meta.client.download_file(bucket, key, train_path + os.sep + file_name)\n",
    "    for key in test:\n",
    "        file_name = key.split('mp3/')[1]\n",
    "        if not os.path.exists(os.path.dirname(test_path + os.sep + file_name)): \n",
    "            os.makedirs(os.path.dirname(test_path + os.sep + file_name))\n",
    "        resource.meta.client.download_file(bucket, key, test_path + os.sep + file_name)\n",
    "    for key in validation:\n",
    "        file_name = key.split('mp3/')[1]\n",
    "        if not os.path.exists(os.path.dirname(validation_path + os.sep + file_name)): \n",
    "            os.makedirs(os.path.dirname(validation_path + os.sep + file_name))\n",
    "        resource.meta.client.download_file(bucket, key, validation_path + os.sep + file_name)\n",
    "\n",
    "client = boto3.client('s3')\n",
    "resource = boto3.resource('s3')\n",
    "labels = [\"zero\", \"one\", \"two\", \"three\", \"four\",\"five\", \"six\", \"seven\", \"eight\", \"nine\"]\n",
    "for label in labels:\n",
    "    print(label)\n",
    "    download_dir(client, resource, 'mp3/', label, '/tmp/ag-voice/mp3/')\n",
    "    \n"
   ]
  },
  {
   "cell_type": "code",
   "execution_count": null,
   "metadata": {},
   "outputs": [],
   "source": [
    "%%time\n",
    "# rmtree(\"mxnet/wav\", True)\n",
    "# makedirs(\"/tmp/ag-voice/wav/\")\n",
    "\n",
    "sample_start = random.randint(500, 1000)\n",
    "sample_finish = sample_start + 2000\n",
    "for label in labels:\n",
    "    print(label)\n",
    "    path = \"/tmp/ag-voice/mp3/train/\" + label \n",
    "    wav_path = \"/tmp/ag-voice/wav/train/\" + label + \"/\"\n",
    "    try:\n",
    "        makedirs(wav_path)\n",
    "    except:\n",
    "        pass\n",
    "    mp3_files = os.listdir(path)\n",
    "    for mp3 in mp3_files:\n",
    "        try: \n",
    "            sound = AudioSegment.from_mp3(\"/tmp/ag-voice/mp3/train/{}\".format(label+\"/\"+mp3))\n",
    "            sound.export(\"/tmp/ag-voice/wav/train/{}wav\".format(label +\"/\"+ mp3[:-3]), format=\"wav\")\n",
    "        except:\n",
    "            pass"
   ]
  },
  {
   "cell_type": "code",
   "execution_count": 51,
   "metadata": {},
   "outputs": [
    {
     "name": "stdout",
     "output_type": "stream",
     "text": [
      "zero\n",
      "one\n",
      "two\n",
      "three\n",
      "four\n",
      "five\n",
      "six\n",
      "seven\n",
      "eight\n",
      "nine\n",
      "CPU times: user 0 ns, sys: 1min 7s, total: 1min 7s\n",
      "Wall time: 2min 24s\n"
     ]
    }
   ],
   "source": [
    "%%time\n",
    "# rmtree(\"mxnet/wav\", True)\n",
    "# makedirs(\"/tmp/ag-voice/wav/\")\n",
    "\n",
    "sample_start = random.randint(500, 1000)\n",
    "sample_finish = sample_start + 2000\n",
    "for label in labels:\n",
    "    print(label)\n",
    "    path = \"/tmp/ag-voice/mp3/test/\" + label \n",
    "    wav_path = \"/tmp/ag-voice/wav/test/\" + label + \"/\"\n",
    "    try:\n",
    "        makedirs(wav_path)\n",
    "    except:\n",
    "        pass\n",
    "    mp3_files = os.listdir(path)\n",
    "    for mp3 in mp3_files:\n",
    "        try: \n",
    "            sound = AudioSegment.from_mp3(\"/tmp/ag-voice/mp3/test/{}\".format(label+\"/\"+mp3))\n",
    "            sound.export(\"/tmp/ag-voice/wav/test/{}wav\".format(label +\"/\"+ mp3[:-3]), format=\"wav\")\n",
    "        except:\n",
    "            pass"
   ]
  },
  {
   "cell_type": "code",
   "execution_count": 3,
   "metadata": {},
   "outputs": [],
   "source": [
    "def graph_spectrogram(wav_file, out):\n",
    "    wav = wave.open(wav_file, \"r\")\n",
    "    frames = wav.readframes(-1)\n",
    "    sound_info = np.frombuffer(frames, \"int16\")\n",
    "    frame_rate = wav.getframerate()\n",
    "    wav.close()\n",
    "    fig = plt.figure()\n",
    "    fig.set_size_inches((1.4, 1.4))\n",
    "    ax = plt.Axes(fig, [0., 0., 1., 1.])\n",
    "    ax.set_axis_off()\n",
    "    fig.add_axes(ax)\n",
    "    plt.set_cmap(\"hot\")\n",
    "    plt.specgram(sound_info, Fs=frame_rate)\n",
    "    plt.savefig(out, format=\"png\")\n",
    "    plt.close(fig)"
   ]
  },
  {
   "cell_type": "code",
   "execution_count": 6,
   "metadata": {},
   "outputs": [
    {
     "name": "stdout",
     "output_type": "stream",
     "text": [
      "zero\n",
      "one\n",
      "two\n",
      "three\n",
      "four\n",
      "five\n",
      "six\n",
      "seven\n",
      "eight\n",
      "nine\n",
      "CPU times: user 4min 16s, sys: 848 ms, total: 4min 17s\n",
      "Wall time: 4min 17s\n"
     ]
    }
   ],
   "source": [
    "%%time\n",
    "%%capture --no-stdout --no-display\n",
    "# rmtree(\"mxnet/spectrograms\", True)\n",
    "# makedirs(\"mxnet/spectrograms\")\n",
    "\n",
    "for label in labels:\n",
    "    print(label)\n",
    "    path = \"/tmp/ag-voice/wav/train/\" + label \n",
    "    spec_path = \"/tmp/ag-voice/spectrograms/train/\" + label + \"/\"\n",
    "    try:\n",
    "        makedirs(spec_path)\n",
    "    except:\n",
    "        pass\n",
    "    wav_files = os.listdir(path)\n",
    "    \n",
    "    for wav in wav_files:\n",
    "        graph_spectrogram(\"/tmp/ag-voice/wav/train/{}\".format(label+\"/\"+wav), \"/tmp/ag-voice/spectrograms/train/{}png\".format(label+\"/\"+wav[:-3]))\n",
    "        \n",
    "        "
   ]
  },
  {
   "cell_type": "code",
   "execution_count": 7,
   "metadata": {},
   "outputs": [
    {
     "name": "stdout",
     "output_type": "stream",
     "text": [
      "CPU times: user 32.5 s, sys: 136 ms, total: 32.7 s\n",
      "Wall time: 32.7 s\n"
     ]
    }
   ],
   "source": [
    "%%time\n",
    "%%capture --no-stdout --no-display\n",
    "# rmtree(\"mxnet/spectrograms\", True)\n",
    "# makedirs(\"mxnet/spectrograms\")\n",
    "\n",
    "for label in labels:\n",
    "    path = \"/tmp/ag-voice/wav/validation/\" + label \n",
    "    spec_path = \"/tmp/ag-voice/spectrograms/validation/\" + label + \"/\"\n",
    "    try:\n",
    "        makedirs(spec_path)\n",
    "    except:\n",
    "        pass\n",
    "    wav_files = os.listdir(path)\n",
    "    \n",
    "    for wav in wav_files:\n",
    "        graph_spectrogram(\"/tmp/ag-voice/wav/validation/{}\".format(label+\"/\"+wav), \"/tmp/ag-voice/spectrograms/validation/{}png\".format(label+\"/\"+wav[:-3]))\n",
    "        \n",
    "        "
   ]
  },
  {
   "cell_type": "code",
   "execution_count": 8,
   "metadata": {},
   "outputs": [],
   "source": [
    "def transform(row, label):\n",
    "    img = cv2.imread(row)\n",
    "    img = mx.nd.array(img)\n",
    "    img = img.astype(np.float32)\n",
    "    img = mx.nd.transpose(img, (2, 0, 1))\n",
    "    img = img / 255\n",
    "    target = np.float32(labels.index(label))\n",
    "    return img, target"
   ]
  },
  {
   "cell_type": "code",
   "execution_count": 9,
   "metadata": {},
   "outputs": [
    {
     "name": "stdout",
     "output_type": "stream",
     "text": [
      "CPU times: user 23.9 s, sys: 2.16 s, total: 26 s\n",
      "Wall time: 10.8 s\n"
     ]
    }
   ],
   "source": [
    "%%time\n",
    "\n",
    "train_nd= []\n",
    "for label in labels:\n",
    "    path = \"/tmp/ag-voice/spectrograms/train/\" + label + \"/\"\n",
    "    for spec_file in os.listdir(path):\n",
    "        file = path + spec_file\n",
    "        train_nd.append(transform(file, label))"
   ]
  },
  {
   "cell_type": "code",
   "execution_count": 10,
   "metadata": {},
   "outputs": [
    {
     "name": "stdout",
     "output_type": "stream",
     "text": [
      "CPU times: user 2.94 s, sys: 224 ms, total: 3.16 s\n",
      "Wall time: 1.3 s\n"
     ]
    }
   ],
   "source": [
    "%%time\n",
    "validation_nd= []\n",
    "for label in labels:\n",
    "    path = \"/tmp/ag-voice/spectrograms/validation/\" + label + \"/\"\n",
    "    for spec_file in os.listdir(path):\n",
    "        file = path + spec_file\n",
    "        validation_nd.append(transform(file, label))"
   ]
  },
  {
   "cell_type": "code",
   "execution_count": 11,
   "metadata": {},
   "outputs": [],
   "source": [
    "def save_to_disk(data, type):\n",
    "    makedirs(\"{}/ag-voice/pickles/{}\".format(gettempdir(), type))\n",
    "    with open(\"{}/ag-voice/pickles/{}/data.p\".format(gettempdir(), type), \"wb\") as out:\n",
    "        dump(data, out)"
   ]
  },
  {
   "cell_type": "code",
   "execution_count": 12,
   "metadata": {},
   "outputs": [
    {
     "name": "stdout",
     "output_type": "stream",
     "text": [
      "CPU times: user 2.2 s, sys: 3.5 s, total: 5.7 s\n",
      "Wall time: 13 s\n"
     ]
    }
   ],
   "source": [
    "%%time\n",
    "rmtree(\"{}/ag-voice/pickles/\".format(gettempdir()), True)\n",
    "\n",
    "save_to_disk(train_nd, \"train\")\n",
    "save_to_disk(validation_nd, \"validation\")"
   ]
  },
  {
   "cell_type": "code",
   "execution_count": 13,
   "metadata": {},
   "outputs": [
    {
     "name": "stdout",
     "output_type": "stream",
     "text": [
      "CPU times: user 27 s, sys: 3.56 s, total: 30.6 s\n",
      "Wall time: 21 s\n"
     ]
    }
   ],
   "source": [
    "%%time\n",
    "import sagemaker\n",
    "sagemaker_session = sagemaker.Session()\n",
    "inputs = sagemaker_session.upload_data(path=\"{}/ag-voice/pickles\".format(gettempdir()),\n",
    "                                       bucket=\"ag-voice\", key_prefix=\"mxnet\")\n",
    "# rmtree(\"{}/pvdwgmas\".format(gettempdir()), True)"
   ]
  },
  {
   "cell_type": "code",
   "execution_count": 20,
   "metadata": {},
   "outputs": [],
   "source": [
    "estimator = MXNet(\"mxnet_script.py\", \n",
    "          role=sagemaker.get_execution_role(), \n",
    "          train_instance_count=1, \n",
    "          train_instance_type=\"ml.p2.xlarge\",\n",
    "          hyperparameters={\"epochs\": 20},\n",
    "          py_version=\"py3\",\n",
    "          framework_version=\"1.1.0\")"
   ]
  },
  {
   "cell_type": "code",
   "execution_count": 21,
   "metadata": {},
   "outputs": [
    {
     "name": "stderr",
     "output_type": "stream",
     "text": [
      "INFO:sagemaker:Created S3 bucket: sagemaker-us-east-1-304386803263\n",
      "INFO:sagemaker:Creating training-job with name: sagemaker-mxnet-2018-09-11-22-55-45-243\n"
     ]
    },
    {
     "name": "stdout",
     "output_type": "stream",
     "text": [
      "................................\n",
      "\u001b[31m2018-09-11 23:00:51,739 INFO - root - running container entrypoint\u001b[0m\n",
      "\u001b[31m2018-09-11 23:00:51,739 INFO - root - starting train task\u001b[0m\n",
      "\u001b[31m2018-09-11 23:00:51,758 INFO - container_support.training - Training starting\u001b[0m\n",
      "\u001b[31m2018-09-11 23:00:53,445 INFO - mxnet_container.train - MXNetTrainingEnvironment: {'_scheduler_host': 'algo-1', 'hosts': ['algo-1'], 'base_dir': '/opt/ml', '_ps_port': 8000, 'user_script_name': 'mxnet_script.py', 'input_dir': '/opt/ml/input', 'code_dir': '/opt/ml/code', 'output_dir': '/opt/ml/output', 'available_cpus': 4, 'job_name': 'sagemaker-mxnet-2018-09-11-22-55-45-243', 'output_data_dir': '/opt/ml/output/data/', 'sagemaker_region': 'us-east-1', 'channel_dirs': {'training': '/opt/ml/input/data/training'}, 'input_config_dir': '/opt/ml/input/config', 'resource_config': {'hosts': ['algo-1'], 'network_interface_name': 'ethwe', 'current_host': 'algo-1'}, 'channels': {'training': {'TrainingInputMode': 'File', 'RecordWrapperType': 'None', 'S3DistributionType': 'FullyReplicated'}}, 'hyperparameters': {'epochs': 20, 'sagemaker_program': 'mxnet_script.py', 'sagemaker_job_name': 'sagemaker-mxnet-2018-09-11-22-55-45-243', 'sagemaker_region': 'us-east-1', 'sagemaker_enable_cloudwatch_metrics': False, 'sagemaker_container_log_level': 20, 'sagemaker_submit_directory': 's3://sagemaker-us-east-1-304386803263/sagemaker-mxnet-2018-09-11-22-55-45-243/source/sourcedir.tar.gz'}, 'current_host': 'algo-1', 'user_requirements_file': None, 'model_dir': '/opt/ml/model', 'user_script_archive': 's3://sagemaker-us-east-1-304386803263/sagemaker-mxnet-2018-09-11-22-55-45-243/source/sourcedir.tar.gz', 'available_gpus': 1, '_scheduler_ip': '10.32.0.4', 'container_log_level': 20, '_ps_verbose': 0, 'enable_cloudwatch_metrics': False}\u001b[0m\n",
      "\u001b[31mDownloading s3://sagemaker-us-east-1-304386803263/sagemaker-mxnet-2018-09-11-22-55-45-243/source/sourcedir.tar.gz to /tmp/script.tar.gz\u001b[0m\n",
      "\u001b[31m2018-09-11 23:00:53,719 INFO - mxnet_container.train - Starting distributed training task\u001b[0m\n",
      "\u001b[31mCollecting opencv-python\n",
      "  Downloading https://files.pythonhosted.org/packages/8c/5a/51fbacac6cf508016916c96393405e2e10d939859322a6dcf7a92e041d0d/opencv_python-3.4.3.18-cp35-cp35m-manylinux1_x86_64.whl (25.0MB)\u001b[0m\n",
      "\u001b[31mRequirement already satisfied: numpy>=1.11.1 in /usr/local/lib/python3.5/dist-packages (from opencv-python) (1.13.3)\u001b[0m\n",
      "\u001b[31mInstalling collected packages: opencv-python\u001b[0m\n",
      "\u001b[31mSuccessfully installed opencv-python-3.4.3.18\u001b[0m\n",
      "\u001b[31mCollecting pydub\n",
      "  Downloading https://files.pythonhosted.org/packages/13/e5/7f0270e220d1be373a8b2c982b6fa1a0b67248fc1737e83ea215d930b351/pydub-0.22.1-py2.py3-none-any.whl\u001b[0m\n",
      "\u001b[31mInstalling collected packages: pydub\u001b[0m\n",
      "\u001b[31mSuccessfully installed pydub-0.22.1\u001b[0m\n",
      "\u001b[31mCollecting matplotlib\n",
      "  Downloading https://files.pythonhosted.org/packages/de/af/6258db9b26313dd7ad70dba30a60bec62bf030a44208d4cb62966206666f/matplotlib-2.2.3-cp35-cp35m-manylinux1_x86_64.whl (12.6MB)\u001b[0m\n",
      "\u001b[31mRequirement already satisfied: six>=1.10 in /usr/local/lib/python3.5/dist-packages (from matplotlib) (1.11.0)\u001b[0m\n",
      "\u001b[31mCollecting kiwisolver>=1.0.1 (from matplotlib)\n",
      "  Downloading https://files.pythonhosted.org/packages/7e/31/d6fedd4fb2c94755cd101191e581af30e1650ccce7a35bddb7930fed6574/kiwisolver-1.0.1-cp35-cp35m-manylinux1_x86_64.whl (949kB)\u001b[0m\n",
      "\u001b[31mCollecting pytz (from matplotlib)\u001b[0m\n",
      "\u001b[31m  Downloading https://files.pythonhosted.org/packages/30/4e/27c34b62430286c6d59177a0842ed90dc789ce5d1ed740887653b898779a/pytz-2018.5-py2.py3-none-any.whl (510kB)\u001b[0m\n",
      "\u001b[31mRequirement already satisfied: numpy>=1.7.1 in /usr/local/lib/python3.5/dist-packages (from matplotlib) (1.13.3)\u001b[0m\n",
      "\u001b[31mCollecting cycler>=0.10 (from matplotlib)\n",
      "  Downloading https://files.pythonhosted.org/packages/f7/d2/e07d3ebb2bd7af696440ce7e754c59dd546ffe1bbe732c8ab68b9c834e61/cycler-0.10.0-py2.py3-none-any.whl\u001b[0m\n",
      "\u001b[31mRequirement already satisfied: python-dateutil>=2.1 in /usr/local/lib/python3.5/dist-packages (from matplotlib) (2.7.3)\u001b[0m\n",
      "\u001b[31mCollecting pyparsing!=2.0.4,!=2.1.2,!=2.1.6,>=2.0.1 (from matplotlib)\n",
      "  Downloading https://files.pythonhosted.org/packages/6a/8a/718fd7d3458f9fab8e67186b00abdd345b639976bc7fb3ae722e1b026a50/pyparsing-2.2.0-py2.py3-none-any.whl (56kB)\u001b[0m\n",
      "\u001b[31mRequirement already satisfied: setuptools in /usr/local/lib/python3.5/dist-packages (from kiwisolver>=1.0.1->matplotlib) (40.2.0)\u001b[0m\n",
      "\u001b[31mInstalling collected packages: kiwisolver, pytz, cycler, pyparsing, matplotlib\u001b[0m\n",
      "\u001b[31mSuccessfully installed cycler-0.10.0 kiwisolver-1.0.1 matplotlib-2.2.3 pyparsing-2.2.0 pytz-2018.5\u001b[0m\n",
      "\u001b[31m2018-09-11 23:00:59,537 INFO - matplotlib.font_manager - font search path ['/usr/local/lib/python3.5/dist-packages/matplotlib/mpl-data/fonts/ttf', '/usr/local/lib/python3.5/dist-packages/matplotlib/mpl-data/fonts/afm', '/usr/local/lib/python3.5/dist-packages/matplotlib/mpl-data/fonts/pdfcorefonts']\u001b[0m\n",
      "\u001b[31m2018-09-11 23:00:59,782 INFO - matplotlib.font_manager - generated new fontManager\u001b[0m\n",
      "\u001b[31m/usr/local/lib/python3.5/dist-packages/mxnet_container/train.py:178: DeprecationWarning: inspect.getargspec() is deprecated, use inspect.signature() instead\n",
      "  train_args = inspect.getargspec(user_module.train)\u001b[0m\n",
      "\u001b[31m[23:01:12] src/operator/nn/./cudnn/./cudnn_algoreg-inl.h:107: Running performance tests to find the best convolution algorithm, this can take a while... (setting env variable MXNET_CUDNN_AUTOTUNE_DEFAULT to 0 to disable)\u001b[0m\n"
     ]
    },
    {
     "name": "stderr",
     "output_type": "stream",
     "text": [
      "/home/ec2-user/anaconda3/envs/mxnet_p36/lib/python3.6/site-packages/sagemaker/session.py:861: DeprecationWarning: generator 'multi_stream_iter' raised StopIteration\n",
      "  for idx, event in sagemaker.logs.multi_stream_iter(client, log_group, stream_names, positions):\n"
     ]
    },
    {
     "name": "stdout",
     "output_type": "stream",
     "text": [
      "\u001b[31mEpoch 0. Loss: 2.0625021887, Train_acc 0.62703379224, Test_acc 0.584\u001b[0m\n",
      "\u001b[31mEpoch 1. Loss: 0.838065698053, Train_acc 0.735794743429, Test_acc 0.683\u001b[0m\n",
      "\u001b[31mEpoch 2. Loss: 0.697998545345, Train_acc 0.789612015019, Test_acc 0.749\u001b[0m\n",
      "\u001b[31mEpoch 3. Loss: 0.612520291646, Train_acc 0.832916145181, Test_acc 0.779\u001b[0m\n",
      "\u001b[31mEpoch 4. Loss: 0.556802900389, Train_acc 0.853566958698, Test_acc 0.784\u001b[0m\n",
      "\u001b[31mEpoch 5. Loss: 0.493580023215, Train_acc 0.885106382979, Test_acc 0.795\u001b[0m\n",
      "\u001b[31mEpoch 6. Loss: 0.447697070719, Train_acc 0.897997496871, Test_acc 0.806\u001b[0m\n",
      "\u001b[31mEpoch 7. Loss: 0.410293374306, Train_acc 0.910888610763, Test_acc 0.808\u001b[0m\n",
      "\u001b[31mEpoch 8. Loss: 0.366452069094, Train_acc 0.923404255319, Test_acc 0.819\u001b[0m\n",
      "\u001b[31mEpoch 9. Loss: 0.343051449958, Train_acc 0.93266583229, Test_acc 0.82\u001b[0m\n",
      "\u001b[31mEpoch 10. Loss: 0.312227013132, Train_acc 0.956195244055, Test_acc 0.83\u001b[0m\n",
      "\u001b[31mEpoch 11. Loss: 0.275327359618, Train_acc 0.958573216521, Test_acc 0.839\u001b[0m\n",
      "\u001b[31mEpoch 12. Loss: 0.248909196036, Train_acc 0.968961201502, Test_acc 0.829\u001b[0m\n",
      "\u001b[31mEpoch 13. Loss: 0.228625586904, Train_acc 0.975844806008, Test_acc 0.822\u001b[0m\n",
      "\u001b[31mEpoch 14. Loss: 0.19688859828, Train_acc 0.981226533166, Test_acc 0.812\u001b[0m\n",
      "\u001b[31mEpoch 15. Loss: 0.178571908135, Train_acc 0.986232790989, Test_acc 0.84\u001b[0m\n",
      "\u001b[31mEpoch 16. Loss: 0.168567168681, Train_acc 0.987359198999, Test_acc 0.842\u001b[0m\n",
      "\u001b[31mEpoch 17. Loss: 0.153507825053, Train_acc 0.986107634543, Test_acc 0.829\u001b[0m\n",
      "\u001b[31mEpoch 18. Loss: 0.14239815381, Train_acc 0.9887359199, Test_acc 0.815\u001b[0m\n",
      "\u001b[31mEpoch 19. Loss: 0.141791629571, Train_acc 0.989987484355, Test_acc 0.8\u001b[0m\n",
      "\n",
      "Billable seconds: 1885\n"
     ]
    }
   ],
   "source": [
    "estimator.fit(inputs)"
   ]
  },
  {
   "cell_type": "code",
   "execution_count": 22,
   "metadata": {},
   "outputs": [
    {
     "name": "stderr",
     "output_type": "stream",
     "text": [
      "INFO:sagemaker:Creating model with name: sagemaker-mxnet-2018-09-11-22-55-45-243\n",
      "INFO:sagemaker:Creating endpoint with name sagemaker-mxnet-2018-09-11-22-55-45-243\n"
     ]
    },
    {
     "name": "stdout",
     "output_type": "stream",
     "text": [
      "-----------------------------------------------------------------------------!"
     ]
    }
   ],
   "source": [
    "predictor = estimator.deploy(instance_type=\"ml.m4.xlarge\", initial_instance_count=1)"
   ]
  },
  {
   "cell_type": "code",
   "execution_count": 28,
   "metadata": {},
   "outputs": [],
   "source": [
    "sagemaker_runtime_client = boto3.client(\"sagemaker-runtime\")"
   ]
  },
  {
   "cell_type": "code",
   "execution_count": 64,
   "metadata": {},
   "outputs": [
    {
     "name": "stdout",
     "output_type": "stream",
     "text": [
      "word 'one' predicted as one\n"
     ]
    }
   ],
   "source": [
    "with open(\"/tmp/ag-voice/wav/test/one/39a45230_nohash_2.wav\", \"rb\") as audio_file:\n",
    "    payload = base64.b64encode(audio_file.read()).decode(\"utf-8\")\n",
    "    response = sagemaker_runtime_client.invoke_endpoint(\n",
    "        EndpointName=predictor.endpoint,\n",
    "        Body=payload,\n",
    "        ContentType=\"audio/wav\",\n",
    "        Accept=\"application/json\"\n",
    "    )[\"Body\"].read()\n",
    "    print(\"word 'one' predicted as {}\".format(json.loads(response, encoding=\"utf-8\")))"
   ]
  },
  {
   "cell_type": "code",
   "execution_count": null,
   "metadata": {},
   "outputs": [],
   "source": [
    "training_dir = \"/tmp/ag-voice/pickles/\"\n",
    "from pickle import load\n",
    "with open(\"{}/train/data.p\".format(training_dir), \"rb\") as pickle:\n",
    "    train_nd = load(pickle)\n",
    "with open(\"{}/validation/data.p\".format(training_dir), \"rb\") as pickle:\n",
    "    validation_nd = load(pickle)"
   ]
  },
  {
   "cell_type": "code",
   "execution_count": 96,
   "metadata": {},
   "outputs": [
    {
     "data": {
      "text/plain": [
       "['bvlc_googlenet.tar.gz']"
      ]
     },
     "execution_count": 96,
     "metadata": {},
     "output_type": "execute_result"
    }
   ],
   "source": [
    "os.listdir('model/')"
   ]
  }
 ],
 "metadata": {
  "kernelspec": {
   "display_name": "conda_mxnet_p36",
   "language": "python",
   "name": "conda_mxnet_p36"
  },
  "language_info": {
   "codemirror_mode": {
    "name": "ipython",
    "version": 3
   },
   "file_extension": ".py",
   "mimetype": "text/x-python",
   "name": "python",
   "nbconvert_exporter": "python",
   "pygments_lexer": "ipython3",
   "version": "3.6.5"
  }
 },
 "nbformat": 4,
 "nbformat_minor": 2
}
